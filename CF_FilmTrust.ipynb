{
  "nbformat": 4,
  "nbformat_minor": 0,
  "metadata": {
    "colab": {
      "name": "Phuong CF FilmTrust",
      "provenance": [],
      "collapsed_sections": []
    },
    "kernelspec": {
      "name": "python3",
      "display_name": "Python 3"
    },
    "language_info": {
      "name": "python"
    }
  },
  "cells": [
    {
      "cell_type": "code",
      "source": [
        "#Install libraries\n",
        "!pip3 install scikit-surprise"
      ],
      "metadata": {
        "colab": {
          "base_uri": "https://localhost:8080/"
        },
        "id": "cko_zdw2nixG",
        "outputId": "7e709cec-f301-4cc5-ad35-751aa4dfcf0d"
      },
      "execution_count": null,
      "outputs": [
        {
          "output_type": "stream",
          "name": "stdout",
          "text": [
            "Looking in indexes: https://pypi.org/simple, https://us-python.pkg.dev/colab-wheels/public/simple/\n",
            "Collecting scikit-surprise\n",
            "  Downloading scikit-surprise-1.1.1.tar.gz (11.8 MB)\n",
            "\u001b[K     |████████████████████████████████| 11.8 MB 4.5 MB/s \n",
            "\u001b[?25hRequirement already satisfied: joblib>=0.11 in /usr/local/lib/python3.7/dist-packages (from scikit-surprise) (1.1.0)\n",
            "Requirement already satisfied: numpy>=1.11.2 in /usr/local/lib/python3.7/dist-packages (from scikit-surprise) (1.21.6)\n",
            "Requirement already satisfied: scipy>=1.0.0 in /usr/local/lib/python3.7/dist-packages (from scikit-surprise) (1.7.3)\n",
            "Requirement already satisfied: six>=1.10.0 in /usr/local/lib/python3.7/dist-packages (from scikit-surprise) (1.15.0)\n",
            "Building wheels for collected packages: scikit-surprise\n",
            "  Building wheel for scikit-surprise (setup.py) ... \u001b[?25l\u001b[?25hdone\n",
            "  Created wheel for scikit-surprise: filename=scikit_surprise-1.1.1-cp37-cp37m-linux_x86_64.whl size=1633720 sha256=99615e7b213da0c6989166c6f13b5a48d200a87e66199a465defa3f069822267\n",
            "  Stored in directory: /root/.cache/pip/wheels/76/44/74/b498c42be47b2406bd27994e16c5188e337c657025ab400c1c\n",
            "Successfully built scikit-surprise\n",
            "Installing collected packages: scikit-surprise\n",
            "Successfully installed scikit-surprise-1.1.1\n"
          ]
        }
      ]
    },
    {
      "cell_type": "code",
      "source": [
        "from google.colab import drive \n",
        "drive.mount('/content/drive')"
      ],
      "metadata": {
        "colab": {
          "base_uri": "https://localhost:8080/"
        },
        "id": "1J_pzh3o7zhI",
        "outputId": "d3412d7b-3c39-4b8a-db3e-87791d19c679"
      },
      "execution_count": null,
      "outputs": [
        {
          "output_type": "stream",
          "name": "stdout",
          "text": [
            "Mounted at /content/drive\n"
          ]
        }
      ]
    },
    {
      "cell_type": "code",
      "source": [
        "#https://drive.google.com/file/d/1E4y0a2A0PvWbAVvyd8QVuExC_0APpDnp/view?usp=sharing\n",
        "\n",
        "!gdown 1E4y0a2A0PvWbAVvyd8QVuExC_0APpDnp"
      ],
      "metadata": {
        "colab": {
          "base_uri": "https://localhost:8080/"
        },
        "id": "lWNYOyjMpChQ",
        "outputId": "da07c689-0f1d-4ee4-f035-181f4d3d1f10"
      },
      "execution_count": null,
      "outputs": [
        {
          "output_type": "stream",
          "name": "stdout",
          "text": [
            "Downloading...\n",
            "From: https://drive.google.com/uc?id=1E4y0a2A0PvWbAVvyd8QVuExC_0APpDnp\n",
            "To: /content/ratings.txt\n",
            "\r  0% 0.00/376k [00:00<?, ?B/s]\r100% 376k/376k [00:00<00:00, 103MB/s]\n"
          ]
        }
      ]
    },
    {
      "cell_type": "code",
      "source": [
        "import pandas as pd \n",
        "import numpy as np\n",
        "\n",
        "import seaborn as sns\n",
        "import matplotlib.pyplot as plt\n",
        "\n",
        "from surprise import Reader\n",
        "from surprise import Dataset\n",
        "from surprise.model_selection import cross_validate\n",
        "\n",
        "from surprise import KNNBasic\n",
        "from surprise import KNNWithMeans\n",
        "from surprise import KNNBaseline\n",
        "from surprise import SVD\n",
        "from surprise import SVDpp\n",
        "from surprise import CoClustering\n",
        "\n",
        "from surprise import accuracy\n",
        "from surprise.accuracy import rmse, mae\n",
        "from surprise.model_selection import train_test_split\n",
        "from surprise.model_selection import GridSearchCV"
      ],
      "metadata": {
        "id": "EkbmAkf-qrnw"
      },
      "execution_count": null,
      "outputs": []
    },
    {
      "cell_type": "code",
      "source": [
        "df = pd.read_csv('ratings.txt', header=None, sep=\" \", names=[\"user_id\", \"movie_id\", \"rating\"])"
      ],
      "metadata": {
        "id": "aOBBQSzKpNXN"
      },
      "execution_count": null,
      "outputs": []
    },
    {
      "cell_type": "code",
      "source": [
        "df.head(10)"
      ],
      "metadata": {
        "colab": {
          "base_uri": "https://localhost:8080/",
          "height": 363
        },
        "id": "joswZmWIRcm7",
        "outputId": "cf5a01b7-c8d6-4470-f059-3ce46bc55407"
      },
      "execution_count": null,
      "outputs": [
        {
          "output_type": "execute_result",
          "data": {
            "text/plain": [
              "   user_id  movie_id  rating\n",
              "0        1         1     2.0\n",
              "1        1         2     4.0\n",
              "2        1         3     3.5\n",
              "3        1         4     3.0\n",
              "4        1         5     4.0\n",
              "5        1         6     3.5\n",
              "6        1         7     3.5\n",
              "7        1         8     3.0\n",
              "8        1         9     2.5\n",
              "9        1        10     4.0"
            ],
            "text/html": [
              "\n",
              "  <div id=\"df-cd4b5133-31c6-4416-b213-1f4a7e7d8a79\">\n",
              "    <div class=\"colab-df-container\">\n",
              "      <div>\n",
              "<style scoped>\n",
              "    .dataframe tbody tr th:only-of-type {\n",
              "        vertical-align: middle;\n",
              "    }\n",
              "\n",
              "    .dataframe tbody tr th {\n",
              "        vertical-align: top;\n",
              "    }\n",
              "\n",
              "    .dataframe thead th {\n",
              "        text-align: right;\n",
              "    }\n",
              "</style>\n",
              "<table border=\"1\" class=\"dataframe\">\n",
              "  <thead>\n",
              "    <tr style=\"text-align: right;\">\n",
              "      <th></th>\n",
              "      <th>user_id</th>\n",
              "      <th>movie_id</th>\n",
              "      <th>rating</th>\n",
              "    </tr>\n",
              "  </thead>\n",
              "  <tbody>\n",
              "    <tr>\n",
              "      <th>0</th>\n",
              "      <td>1</td>\n",
              "      <td>1</td>\n",
              "      <td>2.0</td>\n",
              "    </tr>\n",
              "    <tr>\n",
              "      <th>1</th>\n",
              "      <td>1</td>\n",
              "      <td>2</td>\n",
              "      <td>4.0</td>\n",
              "    </tr>\n",
              "    <tr>\n",
              "      <th>2</th>\n",
              "      <td>1</td>\n",
              "      <td>3</td>\n",
              "      <td>3.5</td>\n",
              "    </tr>\n",
              "    <tr>\n",
              "      <th>3</th>\n",
              "      <td>1</td>\n",
              "      <td>4</td>\n",
              "      <td>3.0</td>\n",
              "    </tr>\n",
              "    <tr>\n",
              "      <th>4</th>\n",
              "      <td>1</td>\n",
              "      <td>5</td>\n",
              "      <td>4.0</td>\n",
              "    </tr>\n",
              "    <tr>\n",
              "      <th>5</th>\n",
              "      <td>1</td>\n",
              "      <td>6</td>\n",
              "      <td>3.5</td>\n",
              "    </tr>\n",
              "    <tr>\n",
              "      <th>6</th>\n",
              "      <td>1</td>\n",
              "      <td>7</td>\n",
              "      <td>3.5</td>\n",
              "    </tr>\n",
              "    <tr>\n",
              "      <th>7</th>\n",
              "      <td>1</td>\n",
              "      <td>8</td>\n",
              "      <td>3.0</td>\n",
              "    </tr>\n",
              "    <tr>\n",
              "      <th>8</th>\n",
              "      <td>1</td>\n",
              "      <td>9</td>\n",
              "      <td>2.5</td>\n",
              "    </tr>\n",
              "    <tr>\n",
              "      <th>9</th>\n",
              "      <td>1</td>\n",
              "      <td>10</td>\n",
              "      <td>4.0</td>\n",
              "    </tr>\n",
              "  </tbody>\n",
              "</table>\n",
              "</div>\n",
              "      <button class=\"colab-df-convert\" onclick=\"convertToInteractive('df-cd4b5133-31c6-4416-b213-1f4a7e7d8a79')\"\n",
              "              title=\"Convert this dataframe to an interactive table.\"\n",
              "              style=\"display:none;\">\n",
              "        \n",
              "  <svg xmlns=\"http://www.w3.org/2000/svg\" height=\"24px\"viewBox=\"0 0 24 24\"\n",
              "       width=\"24px\">\n",
              "    <path d=\"M0 0h24v24H0V0z\" fill=\"none\"/>\n",
              "    <path d=\"M18.56 5.44l.94 2.06.94-2.06 2.06-.94-2.06-.94-.94-2.06-.94 2.06-2.06.94zm-11 1L8.5 8.5l.94-2.06 2.06-.94-2.06-.94L8.5 2.5l-.94 2.06-2.06.94zm10 10l.94 2.06.94-2.06 2.06-.94-2.06-.94-.94-2.06-.94 2.06-2.06.94z\"/><path d=\"M17.41 7.96l-1.37-1.37c-.4-.4-.92-.59-1.43-.59-.52 0-1.04.2-1.43.59L10.3 9.45l-7.72 7.72c-.78.78-.78 2.05 0 2.83L4 21.41c.39.39.9.59 1.41.59.51 0 1.02-.2 1.41-.59l7.78-7.78 2.81-2.81c.8-.78.8-2.07 0-2.86zM5.41 20L4 18.59l7.72-7.72 1.47 1.35L5.41 20z\"/>\n",
              "  </svg>\n",
              "      </button>\n",
              "      \n",
              "  <style>\n",
              "    .colab-df-container {\n",
              "      display:flex;\n",
              "      flex-wrap:wrap;\n",
              "      gap: 12px;\n",
              "    }\n",
              "\n",
              "    .colab-df-convert {\n",
              "      background-color: #E8F0FE;\n",
              "      border: none;\n",
              "      border-radius: 50%;\n",
              "      cursor: pointer;\n",
              "      display: none;\n",
              "      fill: #1967D2;\n",
              "      height: 32px;\n",
              "      padding: 0 0 0 0;\n",
              "      width: 32px;\n",
              "    }\n",
              "\n",
              "    .colab-df-convert:hover {\n",
              "      background-color: #E2EBFA;\n",
              "      box-shadow: 0px 1px 2px rgba(60, 64, 67, 0.3), 0px 1px 3px 1px rgba(60, 64, 67, 0.15);\n",
              "      fill: #174EA6;\n",
              "    }\n",
              "\n",
              "    [theme=dark] .colab-df-convert {\n",
              "      background-color: #3B4455;\n",
              "      fill: #D2E3FC;\n",
              "    }\n",
              "\n",
              "    [theme=dark] .colab-df-convert:hover {\n",
              "      background-color: #434B5C;\n",
              "      box-shadow: 0px 1px 3px 1px rgba(0, 0, 0, 0.15);\n",
              "      filter: drop-shadow(0px 1px 2px rgba(0, 0, 0, 0.3));\n",
              "      fill: #FFFFFF;\n",
              "    }\n",
              "  </style>\n",
              "\n",
              "      <script>\n",
              "        const buttonEl =\n",
              "          document.querySelector('#df-cd4b5133-31c6-4416-b213-1f4a7e7d8a79 button.colab-df-convert');\n",
              "        buttonEl.style.display =\n",
              "          google.colab.kernel.accessAllowed ? 'block' : 'none';\n",
              "\n",
              "        async function convertToInteractive(key) {\n",
              "          const element = document.querySelector('#df-cd4b5133-31c6-4416-b213-1f4a7e7d8a79');\n",
              "          const dataTable =\n",
              "            await google.colab.kernel.invokeFunction('convertToInteractive',\n",
              "                                                     [key], {});\n",
              "          if (!dataTable) return;\n",
              "\n",
              "          const docLinkHtml = 'Like what you see? Visit the ' +\n",
              "            '<a target=\"_blank\" href=https://colab.research.google.com/notebooks/data_table.ipynb>data table notebook</a>'\n",
              "            + ' to learn more about interactive tables.';\n",
              "          element.innerHTML = '';\n",
              "          dataTable['output_type'] = 'display_data';\n",
              "          await google.colab.output.renderOutput(dataTable, element);\n",
              "          const docLink = document.createElement('div');\n",
              "          docLink.innerHTML = docLinkHtml;\n",
              "          element.appendChild(docLink);\n",
              "        }\n",
              "      </script>\n",
              "    </div>\n",
              "  </div>\n",
              "  "
            ]
          },
          "metadata": {},
          "execution_count": 6
        }
      ]
    },
    {
      "cell_type": "code",
      "source": [
        "#Dimensionality\n",
        "min_ratings = 5\n",
        "filter_items = df['movie_id'].value_counts() > min_ratings\n",
        "filter_items = filter_items[filter_items].index.tolist()\n",
        "\n",
        "min_user_ratings = 5\n",
        "filter_users = df['user_id'].value_counts() > min_user_ratings\n",
        "filter_users = filter_users[filter_users].index.tolist()\n",
        "\n",
        "df_new = df[(df['movie_id'].isin(filter_items)) & (df['user_id'].isin(filter_users))]\n",
        "print('The original data frame shape:\\t{}'.format(df.shape))\n",
        "print('The new data frame shape:\\t{}'.format(df_new.shape))"
      ],
      "metadata": {
        "colab": {
          "base_uri": "https://localhost:8080/"
        },
        "id": "NkW7N514qb_H",
        "outputId": "c01472f5-f20f-4449-ac12-ce356b846f84"
      },
      "execution_count": null,
      "outputs": [
        {
          "output_type": "stream",
          "name": "stdout",
          "text": [
            "The original data frame shape:\t(35497, 3)\n",
            "The new data frame shape:\t(31115, 3)\n"
          ]
        }
      ]
    },
    {
      "cell_type": "code",
      "source": [
        "reader = Reader(rating_scale=(1, 5))\n",
        "data = Dataset.load_from_df(df_new[['user_id', 'movie_id', 'rating']], reader)\n",
        "trainset = data.build_full_trainset()"
      ],
      "metadata": {
        "id": "I-Kx6WUsq_GM"
      },
      "execution_count": null,
      "outputs": []
    },
    {
      "cell_type": "code",
      "source": [
        "benchmark_cv5 = []\n",
        "benchmark_cv10 = []\n",
        "benchmark_cv15 = []\n",
        "\n",
        "algorithms = [\n",
        "      KNNBasic(k=21, sim_options={'name': 'cosine'}),\n",
        "      KNNBaseline(k=21, sim_options={'name': 'cosine'}), \n",
        "      KNNWithMeans(k=21, sim_options={'name': 'cosine'}), \n",
        "      SVD(n_factors=100, n_epochs=20, init_std_dev=0.01, lr_all=0.007, reg_all=0.02), \n",
        "      SVDpp(n_factors=20, n_epochs=20, init_std_dev=0.01, lr_all=0.005, reg_all=0.02), \n",
        "      CoClustering(n_cltr_u=3, n_cltr_i=4, n_epochs=20)\n",
        "]\n",
        "\n",
        "for algorithm in algorithms:\n",
        "    # Perform cross validation\n",
        "    # results = cross_validate(algorithm, data, measures=['RMSE'], cv=3, verbose=False)\n",
        "    results_cv5 = cross_validate(algorithm, data, measures=['RMSE','MAE'], cv=5, verbose=False)\n",
        "    results_cv10 = cross_validate(algorithm, data, measures=['RMSE','MAE'], cv=10, verbose=False)\n",
        "    results_cv15 = cross_validate(algorithm, data, measures=['RMSE','MAE'], cv=15, verbose=False)\n",
        "    \n",
        "    # Get results & append algorithm name\n",
        "    tmp_cv5 = pd.DataFrame.from_dict(results_cv5).mean(axis=0)\n",
        "    tmp_cv5 = tmp_cv5.append(pd.Series([str(algorithm).split(' ')[0].split('.')[-1]], index=['Algorithm']))\n",
        "    benchmark_cv5.append(tmp_cv5)\n",
        "\n",
        "    tmp_cv10 = pd.DataFrame.from_dict(results_cv10).mean(axis=0)\n",
        "    tmp_cv10 = tmp_cv10.append(pd.Series([str(algorithm).split(' ')[0].split('.')[-1]], index=['Algorithm']))\n",
        "    benchmark_cv10.append(tmp_cv10)\n",
        "\n",
        "    tmp_cv15 = pd.DataFrame.from_dict(results_cv15).mean(axis=0)\n",
        "    tmp_cv15 = tmp_cv15.append(pd.Series([str(algorithm).split(' ')[0].split('.')[-1]], index=['Algorithm']))\n",
        "    benchmark_cv15.append(tmp_cv15)"
      ],
      "metadata": {
        "colab": {
          "base_uri": "https://localhost:8080/"
        },
        "id": "JQcUlx2lrEx1",
        "outputId": "45295bad-cd56-4f65-c424-a1cdf9b1cfe6"
      },
      "execution_count": null,
      "outputs": [
        {
          "output_type": "stream",
          "name": "stdout",
          "text": [
            "Computing the cosine similarity matrix...\n",
            "Done computing similarity matrix.\n",
            "Computing the cosine similarity matrix...\n",
            "Done computing similarity matrix.\n",
            "Computing the cosine similarity matrix...\n",
            "Done computing similarity matrix.\n",
            "Computing the cosine similarity matrix...\n",
            "Done computing similarity matrix.\n",
            "Computing the cosine similarity matrix...\n",
            "Done computing similarity matrix.\n",
            "Computing the cosine similarity matrix...\n",
            "Done computing similarity matrix.\n",
            "Computing the cosine similarity matrix...\n",
            "Done computing similarity matrix.\n",
            "Computing the cosine similarity matrix...\n",
            "Done computing similarity matrix.\n",
            "Computing the cosine similarity matrix...\n",
            "Done computing similarity matrix.\n",
            "Computing the cosine similarity matrix...\n",
            "Done computing similarity matrix.\n",
            "Computing the cosine similarity matrix...\n",
            "Done computing similarity matrix.\n",
            "Computing the cosine similarity matrix...\n",
            "Done computing similarity matrix.\n",
            "Computing the cosine similarity matrix...\n",
            "Done computing similarity matrix.\n",
            "Computing the cosine similarity matrix...\n",
            "Done computing similarity matrix.\n",
            "Computing the cosine similarity matrix...\n",
            "Done computing similarity matrix.\n",
            "Computing the cosine similarity matrix...\n",
            "Done computing similarity matrix.\n",
            "Computing the cosine similarity matrix...\n",
            "Done computing similarity matrix.\n",
            "Computing the cosine similarity matrix...\n",
            "Done computing similarity matrix.\n",
            "Computing the cosine similarity matrix...\n",
            "Done computing similarity matrix.\n",
            "Computing the cosine similarity matrix...\n",
            "Done computing similarity matrix.\n",
            "Computing the cosine similarity matrix...\n",
            "Done computing similarity matrix.\n",
            "Computing the cosine similarity matrix...\n",
            "Done computing similarity matrix.\n",
            "Computing the cosine similarity matrix...\n",
            "Done computing similarity matrix.\n",
            "Computing the cosine similarity matrix...\n",
            "Done computing similarity matrix.\n",
            "Computing the cosine similarity matrix...\n",
            "Done computing similarity matrix.\n",
            "Computing the cosine similarity matrix...\n",
            "Done computing similarity matrix.\n",
            "Computing the cosine similarity matrix...\n",
            "Done computing similarity matrix.\n",
            "Computing the cosine similarity matrix...\n",
            "Done computing similarity matrix.\n",
            "Computing the cosine similarity matrix...\n",
            "Done computing similarity matrix.\n",
            "Computing the cosine similarity matrix...\n",
            "Done computing similarity matrix.\n",
            "Estimating biases using als...\n",
            "Computing the cosine similarity matrix...\n",
            "Done computing similarity matrix.\n",
            "Estimating biases using als...\n",
            "Computing the cosine similarity matrix...\n",
            "Done computing similarity matrix.\n",
            "Estimating biases using als...\n",
            "Computing the cosine similarity matrix...\n",
            "Done computing similarity matrix.\n",
            "Estimating biases using als...\n",
            "Computing the cosine similarity matrix...\n",
            "Done computing similarity matrix.\n",
            "Estimating biases using als...\n",
            "Computing the cosine similarity matrix...\n",
            "Done computing similarity matrix.\n",
            "Estimating biases using als...\n",
            "Computing the cosine similarity matrix...\n",
            "Done computing similarity matrix.\n",
            "Estimating biases using als...\n",
            "Computing the cosine similarity matrix...\n",
            "Done computing similarity matrix.\n",
            "Estimating biases using als...\n",
            "Computing the cosine similarity matrix...\n",
            "Done computing similarity matrix.\n",
            "Estimating biases using als...\n",
            "Computing the cosine similarity matrix...\n",
            "Done computing similarity matrix.\n",
            "Estimating biases using als...\n",
            "Computing the cosine similarity matrix...\n",
            "Done computing similarity matrix.\n",
            "Estimating biases using als...\n",
            "Computing the cosine similarity matrix...\n",
            "Done computing similarity matrix.\n",
            "Estimating biases using als...\n",
            "Computing the cosine similarity matrix...\n",
            "Done computing similarity matrix.\n",
            "Estimating biases using als...\n",
            "Computing the cosine similarity matrix...\n",
            "Done computing similarity matrix.\n",
            "Estimating biases using als...\n",
            "Computing the cosine similarity matrix...\n",
            "Done computing similarity matrix.\n",
            "Estimating biases using als...\n",
            "Computing the cosine similarity matrix...\n",
            "Done computing similarity matrix.\n",
            "Estimating biases using als...\n",
            "Computing the cosine similarity matrix...\n",
            "Done computing similarity matrix.\n",
            "Estimating biases using als...\n",
            "Computing the cosine similarity matrix...\n",
            "Done computing similarity matrix.\n",
            "Estimating biases using als...\n",
            "Computing the cosine similarity matrix...\n",
            "Done computing similarity matrix.\n",
            "Estimating biases using als...\n",
            "Computing the cosine similarity matrix...\n",
            "Done computing similarity matrix.\n",
            "Estimating biases using als...\n",
            "Computing the cosine similarity matrix...\n",
            "Done computing similarity matrix.\n",
            "Estimating biases using als...\n",
            "Computing the cosine similarity matrix...\n",
            "Done computing similarity matrix.\n",
            "Estimating biases using als...\n",
            "Computing the cosine similarity matrix...\n",
            "Done computing similarity matrix.\n",
            "Estimating biases using als...\n",
            "Computing the cosine similarity matrix...\n",
            "Done computing similarity matrix.\n",
            "Estimating biases using als...\n",
            "Computing the cosine similarity matrix...\n",
            "Done computing similarity matrix.\n",
            "Estimating biases using als...\n",
            "Computing the cosine similarity matrix...\n",
            "Done computing similarity matrix.\n",
            "Estimating biases using als...\n",
            "Computing the cosine similarity matrix...\n",
            "Done computing similarity matrix.\n",
            "Estimating biases using als...\n",
            "Computing the cosine similarity matrix...\n",
            "Done computing similarity matrix.\n",
            "Estimating biases using als...\n",
            "Computing the cosine similarity matrix...\n",
            "Done computing similarity matrix.\n",
            "Estimating biases using als...\n",
            "Computing the cosine similarity matrix...\n",
            "Done computing similarity matrix.\n",
            "Estimating biases using als...\n",
            "Computing the cosine similarity matrix...\n",
            "Done computing similarity matrix.\n",
            "Computing the cosine similarity matrix...\n",
            "Done computing similarity matrix.\n",
            "Computing the cosine similarity matrix...\n",
            "Done computing similarity matrix.\n",
            "Computing the cosine similarity matrix...\n",
            "Done computing similarity matrix.\n",
            "Computing the cosine similarity matrix...\n",
            "Done computing similarity matrix.\n",
            "Computing the cosine similarity matrix...\n",
            "Done computing similarity matrix.\n",
            "Computing the cosine similarity matrix...\n",
            "Done computing similarity matrix.\n",
            "Computing the cosine similarity matrix...\n",
            "Done computing similarity matrix.\n",
            "Computing the cosine similarity matrix...\n",
            "Done computing similarity matrix.\n",
            "Computing the cosine similarity matrix...\n",
            "Done computing similarity matrix.\n",
            "Computing the cosine similarity matrix...\n",
            "Done computing similarity matrix.\n",
            "Computing the cosine similarity matrix...\n",
            "Done computing similarity matrix.\n",
            "Computing the cosine similarity matrix...\n",
            "Done computing similarity matrix.\n",
            "Computing the cosine similarity matrix...\n",
            "Done computing similarity matrix.\n",
            "Computing the cosine similarity matrix...\n",
            "Done computing similarity matrix.\n",
            "Computing the cosine similarity matrix...\n",
            "Done computing similarity matrix.\n",
            "Computing the cosine similarity matrix...\n",
            "Done computing similarity matrix.\n",
            "Computing the cosine similarity matrix...\n",
            "Done computing similarity matrix.\n",
            "Computing the cosine similarity matrix...\n",
            "Done computing similarity matrix.\n",
            "Computing the cosine similarity matrix...\n",
            "Done computing similarity matrix.\n",
            "Computing the cosine similarity matrix...\n",
            "Done computing similarity matrix.\n",
            "Computing the cosine similarity matrix...\n",
            "Done computing similarity matrix.\n",
            "Computing the cosine similarity matrix...\n",
            "Done computing similarity matrix.\n",
            "Computing the cosine similarity matrix...\n",
            "Done computing similarity matrix.\n",
            "Computing the cosine similarity matrix...\n",
            "Done computing similarity matrix.\n",
            "Computing the cosine similarity matrix...\n",
            "Done computing similarity matrix.\n",
            "Computing the cosine similarity matrix...\n",
            "Done computing similarity matrix.\n",
            "Computing the cosine similarity matrix...\n",
            "Done computing similarity matrix.\n",
            "Computing the cosine similarity matrix...\n",
            "Done computing similarity matrix.\n",
            "Computing the cosine similarity matrix...\n",
            "Done computing similarity matrix.\n",
            "Computing the cosine similarity matrix...\n",
            "Done computing similarity matrix.\n"
          ]
        }
      ]
    },
    {
      "cell_type": "code",
      "source": [
        "surprise_results_cv5 = pd.DataFrame(benchmark_cv5).set_index('Algorithm').sort_values('test_rmse')\n",
        "surprise_results_cv10 = pd.DataFrame(benchmark_cv10).set_index('Algorithm').sort_values('test_rmse')\n",
        "surprise_results_cv15 = pd.DataFrame(benchmark_cv15).set_index('Algorithm').sort_values('test_rmse')\n",
        "print(surprise_results_cv5)\n",
        "print('-'*55)\n",
        "print(surprise_results_cv10)\n",
        "print('-'*55)\n",
        "print(surprise_results_cv15)"
      ],
      "metadata": {
        "colab": {
          "base_uri": "https://localhost:8080/"
        },
        "id": "nRU69eOpvYB8",
        "outputId": "98e7d393-eb2f-4308-fba9-ab7a8bf4aad6"
      },
      "execution_count": null,
      "outputs": [
        {
          "output_type": "stream",
          "name": "stdout",
          "text": [
            "              test_rmse  test_mae   fit_time  test_time\n",
            "Algorithm                                              \n",
            "SVD            0.772788  0.597799   1.465486   0.043591\n",
            "SVDpp          0.774011  0.600085  11.783977   0.379868\n",
            "KNNWithMeans   0.792919  0.613103   1.091803   2.082556\n",
            "KNNBaseline    0.797585  0.615802   1.110289   2.414707\n",
            "CoClustering   0.834980  0.653708   0.684019   0.047970\n",
            "KNNBasic       0.907203  0.694140   2.155794   5.222050\n",
            "-------------------------------------------------------\n",
            "              test_rmse  test_mae   fit_time  test_time\n",
            "Algorithm                                              \n",
            "SVD            0.769476  0.594895   1.648952   0.024092\n",
            "SVDpp          0.772978  0.598695  14.434306   0.186059\n",
            "KNNWithMeans   0.787718  0.608977   1.214714   1.161105\n",
            "KNNBaseline    0.789926  0.609236   1.242701   1.218599\n",
            "CoClustering   0.826295  0.648380   0.758847   0.014125\n",
            "KNNBasic       0.909832  0.693663   1.155266   1.166826\n",
            "-------------------------------------------------------\n",
            "              test_rmse  test_mae   fit_time  test_time\n",
            "Algorithm                                              \n",
            "SVD            0.769406  0.594684   1.829241   0.015403\n",
            "SVDpp          0.771950  0.598124  15.780471   0.132979\n",
            "KNNWithMeans   0.785278  0.607183   1.312779   0.852998\n",
            "KNNBaseline    0.788811  0.607640   1.340103   0.874388\n",
            "CoClustering   0.826903  0.648211   0.785878   0.009470\n",
            "KNNBasic       0.910287  0.693053   1.251063   0.935931\n"
          ]
        }
      ]
    },
    {
      "cell_type": "code",
      "source": [
        "# smaller grid for testing\n",
        "param_grid = {\n",
        "     \"n_epochs\": [10, 20],\n",
        "     \"lr_all\": [0.002, 0.005],\n",
        "     \"reg_all\": [0.02]\n",
        " }\n",
        "gs = GridSearchCV(SVD, param_grid, measures=[\"rmse\", \"mae\"], refit=True, cv=5)\n",
        "\n",
        "gs.fit(data)\n",
        "\n",
        "training_parameters = gs.best_params[\"rmse\"]\n",
        "\n",
        "print(\"BEST RMSE: \\t\", gs.best_score[\"rmse\"])\n",
        "print(\"BEST MAE: \\t\", gs.best_score[\"mae\"])\n",
        "print(\"BEST params: \\t\", gs.best_params[\"rmse\"])"
      ],
      "metadata": {
        "colab": {
          "base_uri": "https://localhost:8080/"
        },
        "id": "yqbp__XCvk_r",
        "outputId": "2f15138d-8a06-42f7-de08-3e312c227463"
      },
      "execution_count": null,
      "outputs": [
        {
          "output_type": "stream",
          "name": "stdout",
          "text": [
            "BEST RMSE: \t 0.7756512117672502\n",
            "BEST MAE: \t 0.6027704551303146\n",
            "BEST params: \t {'n_epochs': 20, 'lr_all': 0.005, 'reg_all': 0.02}\n"
          ]
        }
      ]
    },
    {
      "cell_type": "code",
      "source": [
        "from datetime import datetime\n",
        "reader = Reader(rating_scale=(1, 5))\n",
        "\n",
        "data = Dataset.load_from_df(df_new[['user_id', 'movie_id', 'rating']], reader)\n",
        "trainset = data.build_full_trainset()\n",
        "\n",
        "startTraining = datetime.now()\n",
        "\n",
        "algo = SVD(n_epochs = training_parameters['n_epochs'], lr_all = training_parameters['lr_all'], reg_all = training_parameters['reg_all'])\n",
        "algo.fit(trainset)\n",
        "\n",
        "endTraining = datetime.now()\n",
        "print(\"Training Time: \", (endTraining-startTraining).seconds, \"seconds\")"
      ],
      "metadata": {
        "colab": {
          "base_uri": "https://localhost:8080/"
        },
        "id": "gYJUYZwq7hH1",
        "outputId": "642a456d-c067-4b5f-c928-9f3c42395ee9"
      },
      "execution_count": null,
      "outputs": [
        {
          "output_type": "stream",
          "name": "stdout",
          "text": [
            "Training Time:  1 seconds\n"
          ]
        }
      ]
    },
    {
      "cell_type": "code",
      "source": [
        "from surprise import dump\n",
        "ggdrive_path = '/content/drive/MyDrive/'\n",
        "file_name = ggdrive_path +'model_svd.pickle'\n",
        "dump.dump(file_name, algo=algo)"
      ],
      "metadata": {
        "id": "7q3H0-bg7m1B"
      },
      "execution_count": null,
      "outputs": []
    },
    {
      "cell_type": "code",
      "source": [
        "_, loaded_model = dump.load(file_name)\n",
        "prediction = loaded_model.predict(9, 167, verbose=True)\n",
        "print(prediction)"
      ],
      "metadata": {
        "colab": {
          "base_uri": "https://localhost:8080/"
        },
        "id": "N49sDL9p8udh",
        "outputId": "6ad5bd32-ac56-491a-92c3-943bd1a1bcf4"
      },
      "execution_count": null,
      "outputs": [
        {
          "output_type": "stream",
          "name": "stdout",
          "text": [
            "user: 9          item: 167        r_ui = None   est = 3.28   {'was_impossible': False}\n",
            "user: 9          item: 167        r_ui = None   est = 3.28   {'was_impossible': False}\n"
          ]
        }
      ]
    },
    {
      "cell_type": "code",
      "source": [
        "#EVALUATION\n",
        "df_cv5 = pd.DataFrame(benchmark_cv5)\n",
        "df_cv5['cv'] = 'CV5'\n",
        "\n",
        "df_cv10 = pd.DataFrame(benchmark_cv10)\n",
        "df_cv10['cv'] = 'CV10'\n",
        "\n",
        "df_cv15 = pd.DataFrame(benchmark_cv15)\n",
        "df_cv15['cv'] = 'CV15'\n",
        "\n",
        "frames = [df_cv5, df_cv10, df_cv15]\n",
        "combined = pd.concat(frames)\n",
        "combined"
      ],
      "metadata": {
        "colab": {
          "base_uri": "https://localhost:8080/"
        },
        "id": "lM3FO-Q3851U",
        "outputId": "1cb6fcc7-cefc-4213-8a99-87c828a7dc6c"
      },
      "execution_count": null,
      "outputs": [
        {
          "output_type": "execute_result",
          "data": {
            "text/plain": [
              "   test_rmse  test_mae   fit_time  test_time     Algorithm    cv\n",
              "0   0.907203  0.694140   2.155794   5.222050      KNNBasic   CV5\n",
              "1   0.797585  0.615802   1.110289   2.414707   KNNBaseline   CV5\n",
              "2   0.792919  0.613103   1.091803   2.082556  KNNWithMeans   CV5\n",
              "3   0.772788  0.597799   1.465486   0.043591           SVD   CV5\n",
              "4   0.774011  0.600085  11.783977   0.379868         SVDpp   CV5\n",
              "5   0.834980  0.653708   0.684019   0.047970  CoClustering   CV5\n",
              "0   0.909832  0.693663   1.155266   1.166826      KNNBasic  CV10\n",
              "1   0.789926  0.609236   1.242701   1.218599   KNNBaseline  CV10\n",
              "2   0.787718  0.608977   1.214714   1.161105  KNNWithMeans  CV10\n",
              "3   0.769476  0.594895   1.648952   0.024092           SVD  CV10\n",
              "4   0.772978  0.598695  14.434306   0.186059         SVDpp  CV10\n",
              "5   0.826295  0.648380   0.758847   0.014125  CoClustering  CV10\n",
              "0   0.910287  0.693053   1.251063   0.935931      KNNBasic  CV15\n",
              "1   0.788811  0.607640   1.340103   0.874388   KNNBaseline  CV15\n",
              "2   0.785278  0.607183   1.312779   0.852998  KNNWithMeans  CV15\n",
              "3   0.769406  0.594684   1.829241   0.015403           SVD  CV15\n",
              "4   0.771950  0.598124  15.780471   0.132979         SVDpp  CV15\n",
              "5   0.826903  0.648211   0.785878   0.009470  CoClustering  CV15"
            ],
            "text/html": [
              "\n",
              "  <div id=\"df-74c5e9eb-fdaa-4232-8a4c-73b837918e85\">\n",
              "    <div class=\"colab-df-container\">\n",
              "      <div>\n",
              "<style scoped>\n",
              "    .dataframe tbody tr th:only-of-type {\n",
              "        vertical-align: middle;\n",
              "    }\n",
              "\n",
              "    .dataframe tbody tr th {\n",
              "        vertical-align: top;\n",
              "    }\n",
              "\n",
              "    .dataframe thead th {\n",
              "        text-align: right;\n",
              "    }\n",
              "</style>\n",
              "<table border=\"1\" class=\"dataframe\">\n",
              "  <thead>\n",
              "    <tr style=\"text-align: right;\">\n",
              "      <th></th>\n",
              "      <th>test_rmse</th>\n",
              "      <th>test_mae</th>\n",
              "      <th>fit_time</th>\n",
              "      <th>test_time</th>\n",
              "      <th>Algorithm</th>\n",
              "      <th>cv</th>\n",
              "    </tr>\n",
              "  </thead>\n",
              "  <tbody>\n",
              "    <tr>\n",
              "      <th>0</th>\n",
              "      <td>0.907203</td>\n",
              "      <td>0.694140</td>\n",
              "      <td>2.155794</td>\n",
              "      <td>5.222050</td>\n",
              "      <td>KNNBasic</td>\n",
              "      <td>CV5</td>\n",
              "    </tr>\n",
              "    <tr>\n",
              "      <th>1</th>\n",
              "      <td>0.797585</td>\n",
              "      <td>0.615802</td>\n",
              "      <td>1.110289</td>\n",
              "      <td>2.414707</td>\n",
              "      <td>KNNBaseline</td>\n",
              "      <td>CV5</td>\n",
              "    </tr>\n",
              "    <tr>\n",
              "      <th>2</th>\n",
              "      <td>0.792919</td>\n",
              "      <td>0.613103</td>\n",
              "      <td>1.091803</td>\n",
              "      <td>2.082556</td>\n",
              "      <td>KNNWithMeans</td>\n",
              "      <td>CV5</td>\n",
              "    </tr>\n",
              "    <tr>\n",
              "      <th>3</th>\n",
              "      <td>0.772788</td>\n",
              "      <td>0.597799</td>\n",
              "      <td>1.465486</td>\n",
              "      <td>0.043591</td>\n",
              "      <td>SVD</td>\n",
              "      <td>CV5</td>\n",
              "    </tr>\n",
              "    <tr>\n",
              "      <th>4</th>\n",
              "      <td>0.774011</td>\n",
              "      <td>0.600085</td>\n",
              "      <td>11.783977</td>\n",
              "      <td>0.379868</td>\n",
              "      <td>SVDpp</td>\n",
              "      <td>CV5</td>\n",
              "    </tr>\n",
              "    <tr>\n",
              "      <th>5</th>\n",
              "      <td>0.834980</td>\n",
              "      <td>0.653708</td>\n",
              "      <td>0.684019</td>\n",
              "      <td>0.047970</td>\n",
              "      <td>CoClustering</td>\n",
              "      <td>CV5</td>\n",
              "    </tr>\n",
              "    <tr>\n",
              "      <th>0</th>\n",
              "      <td>0.909832</td>\n",
              "      <td>0.693663</td>\n",
              "      <td>1.155266</td>\n",
              "      <td>1.166826</td>\n",
              "      <td>KNNBasic</td>\n",
              "      <td>CV10</td>\n",
              "    </tr>\n",
              "    <tr>\n",
              "      <th>1</th>\n",
              "      <td>0.789926</td>\n",
              "      <td>0.609236</td>\n",
              "      <td>1.242701</td>\n",
              "      <td>1.218599</td>\n",
              "      <td>KNNBaseline</td>\n",
              "      <td>CV10</td>\n",
              "    </tr>\n",
              "    <tr>\n",
              "      <th>2</th>\n",
              "      <td>0.787718</td>\n",
              "      <td>0.608977</td>\n",
              "      <td>1.214714</td>\n",
              "      <td>1.161105</td>\n",
              "      <td>KNNWithMeans</td>\n",
              "      <td>CV10</td>\n",
              "    </tr>\n",
              "    <tr>\n",
              "      <th>3</th>\n",
              "      <td>0.769476</td>\n",
              "      <td>0.594895</td>\n",
              "      <td>1.648952</td>\n",
              "      <td>0.024092</td>\n",
              "      <td>SVD</td>\n",
              "      <td>CV10</td>\n",
              "    </tr>\n",
              "    <tr>\n",
              "      <th>4</th>\n",
              "      <td>0.772978</td>\n",
              "      <td>0.598695</td>\n",
              "      <td>14.434306</td>\n",
              "      <td>0.186059</td>\n",
              "      <td>SVDpp</td>\n",
              "      <td>CV10</td>\n",
              "    </tr>\n",
              "    <tr>\n",
              "      <th>5</th>\n",
              "      <td>0.826295</td>\n",
              "      <td>0.648380</td>\n",
              "      <td>0.758847</td>\n",
              "      <td>0.014125</td>\n",
              "      <td>CoClustering</td>\n",
              "      <td>CV10</td>\n",
              "    </tr>\n",
              "    <tr>\n",
              "      <th>0</th>\n",
              "      <td>0.910287</td>\n",
              "      <td>0.693053</td>\n",
              "      <td>1.251063</td>\n",
              "      <td>0.935931</td>\n",
              "      <td>KNNBasic</td>\n",
              "      <td>CV15</td>\n",
              "    </tr>\n",
              "    <tr>\n",
              "      <th>1</th>\n",
              "      <td>0.788811</td>\n",
              "      <td>0.607640</td>\n",
              "      <td>1.340103</td>\n",
              "      <td>0.874388</td>\n",
              "      <td>KNNBaseline</td>\n",
              "      <td>CV15</td>\n",
              "    </tr>\n",
              "    <tr>\n",
              "      <th>2</th>\n",
              "      <td>0.785278</td>\n",
              "      <td>0.607183</td>\n",
              "      <td>1.312779</td>\n",
              "      <td>0.852998</td>\n",
              "      <td>KNNWithMeans</td>\n",
              "      <td>CV15</td>\n",
              "    </tr>\n",
              "    <tr>\n",
              "      <th>3</th>\n",
              "      <td>0.769406</td>\n",
              "      <td>0.594684</td>\n",
              "      <td>1.829241</td>\n",
              "      <td>0.015403</td>\n",
              "      <td>SVD</td>\n",
              "      <td>CV15</td>\n",
              "    </tr>\n",
              "    <tr>\n",
              "      <th>4</th>\n",
              "      <td>0.771950</td>\n",
              "      <td>0.598124</td>\n",
              "      <td>15.780471</td>\n",
              "      <td>0.132979</td>\n",
              "      <td>SVDpp</td>\n",
              "      <td>CV15</td>\n",
              "    </tr>\n",
              "    <tr>\n",
              "      <th>5</th>\n",
              "      <td>0.826903</td>\n",
              "      <td>0.648211</td>\n",
              "      <td>0.785878</td>\n",
              "      <td>0.009470</td>\n",
              "      <td>CoClustering</td>\n",
              "      <td>CV15</td>\n",
              "    </tr>\n",
              "  </tbody>\n",
              "</table>\n",
              "</div>\n",
              "      <button class=\"colab-df-convert\" onclick=\"convertToInteractive('df-74c5e9eb-fdaa-4232-8a4c-73b837918e85')\"\n",
              "              title=\"Convert this dataframe to an interactive table.\"\n",
              "              style=\"display:none;\">\n",
              "        \n",
              "  <svg xmlns=\"http://www.w3.org/2000/svg\" height=\"24px\"viewBox=\"0 0 24 24\"\n",
              "       width=\"24px\">\n",
              "    <path d=\"M0 0h24v24H0V0z\" fill=\"none\"/>\n",
              "    <path d=\"M18.56 5.44l.94 2.06.94-2.06 2.06-.94-2.06-.94-.94-2.06-.94 2.06-2.06.94zm-11 1L8.5 8.5l.94-2.06 2.06-.94-2.06-.94L8.5 2.5l-.94 2.06-2.06.94zm10 10l.94 2.06.94-2.06 2.06-.94-2.06-.94-.94-2.06-.94 2.06-2.06.94z\"/><path d=\"M17.41 7.96l-1.37-1.37c-.4-.4-.92-.59-1.43-.59-.52 0-1.04.2-1.43.59L10.3 9.45l-7.72 7.72c-.78.78-.78 2.05 0 2.83L4 21.41c.39.39.9.59 1.41.59.51 0 1.02-.2 1.41-.59l7.78-7.78 2.81-2.81c.8-.78.8-2.07 0-2.86zM5.41 20L4 18.59l7.72-7.72 1.47 1.35L5.41 20z\"/>\n",
              "  </svg>\n",
              "      </button>\n",
              "      \n",
              "  <style>\n",
              "    .colab-df-container {\n",
              "      display:flex;\n",
              "      flex-wrap:wrap;\n",
              "      gap: 12px;\n",
              "    }\n",
              "\n",
              "    .colab-df-convert {\n",
              "      background-color: #E8F0FE;\n",
              "      border: none;\n",
              "      border-radius: 50%;\n",
              "      cursor: pointer;\n",
              "      display: none;\n",
              "      fill: #1967D2;\n",
              "      height: 32px;\n",
              "      padding: 0 0 0 0;\n",
              "      width: 32px;\n",
              "    }\n",
              "\n",
              "    .colab-df-convert:hover {\n",
              "      background-color: #E2EBFA;\n",
              "      box-shadow: 0px 1px 2px rgba(60, 64, 67, 0.3), 0px 1px 3px 1px rgba(60, 64, 67, 0.15);\n",
              "      fill: #174EA6;\n",
              "    }\n",
              "\n",
              "    [theme=dark] .colab-df-convert {\n",
              "      background-color: #3B4455;\n",
              "      fill: #D2E3FC;\n",
              "    }\n",
              "\n",
              "    [theme=dark] .colab-df-convert:hover {\n",
              "      background-color: #434B5C;\n",
              "      box-shadow: 0px 1px 3px 1px rgba(0, 0, 0, 0.15);\n",
              "      filter: drop-shadow(0px 1px 2px rgba(0, 0, 0, 0.3));\n",
              "      fill: #FFFFFF;\n",
              "    }\n",
              "  </style>\n",
              "\n",
              "      <script>\n",
              "        const buttonEl =\n",
              "          document.querySelector('#df-74c5e9eb-fdaa-4232-8a4c-73b837918e85 button.colab-df-convert');\n",
              "        buttonEl.style.display =\n",
              "          google.colab.kernel.accessAllowed ? 'block' : 'none';\n",
              "\n",
              "        async function convertToInteractive(key) {\n",
              "          const element = document.querySelector('#df-74c5e9eb-fdaa-4232-8a4c-73b837918e85');\n",
              "          const dataTable =\n",
              "            await google.colab.kernel.invokeFunction('convertToInteractive',\n",
              "                                                     [key], {});\n",
              "          if (!dataTable) return;\n",
              "\n",
              "          const docLinkHtml = 'Like what you see? Visit the ' +\n",
              "            '<a target=\"_blank\" href=https://colab.research.google.com/notebooks/data_table.ipynb>data table notebook</a>'\n",
              "            + ' to learn more about interactive tables.';\n",
              "          element.innerHTML = '';\n",
              "          dataTable['output_type'] = 'display_data';\n",
              "          await google.colab.output.renderOutput(dataTable, element);\n",
              "          const docLink = document.createElement('div');\n",
              "          docLink.innerHTML = docLinkHtml;\n",
              "          element.appendChild(docLink);\n",
              "        }\n",
              "      </script>\n",
              "    </div>\n",
              "  </div>\n",
              "  "
            ]
          },
          "metadata": {},
          "execution_count": 15
        }
      ]
    },
    {
      "cell_type": "code",
      "source": [
        "figsize=(9, 5)\n",
        "plt.subplots(figsize=figsize)\n",
        "sns.barplot(x = 'Algorithm',\n",
        "            y = 'test_rmse',\n",
        "            data = pd.DataFrame(benchmark_cv5))\n",
        "plt.show()\n",
        "\n",
        "plt.subplots(figsize=figsize)\n",
        "sns.barplot(x = 'Algorithm',\n",
        "            y = 'test_rmse',\n",
        "            data = pd.DataFrame(benchmark_cv10))\n",
        "plt.show()\n",
        "\n",
        "plt.subplots(figsize=figsize)\n",
        "sns.barplot(x = 'Algorithm',\n",
        "            y = 'test_rmse',\n",
        "            data = pd.DataFrame(benchmark_cv15))\n",
        "plt.show()"
      ],
      "metadata": {
        "colab": {
          "base_uri": "https://localhost:8080/",
          "height": 968
        },
        "id": "jwe_stpE9ES5",
        "outputId": "0dadeb0c-3fa8-465d-a167-cb0f03ba080a"
      },
      "execution_count": null,
      "outputs": [
        {
          "output_type": "display_data",
          "data": {
            "text/plain": [
              "<Figure size 648x360 with 1 Axes>"
            ],
            "image/png": "[encoded data removed]"
          },
          "metadata": {
            "needs_background": "light"
          }
        },
        {
          "output_type": "display_data",
          "data": {
            "text/plain": [
              "<Figure size 648x360 with 1 Axes>"
            ],
            "image/png": "[encoded data removed]"
          },
          "metadata": {
            "needs_background": "light"
          }
        },
        {
          "output_type": "display_data",
          "data": {
            "text/plain": [
              "<Figure size 648x360 with 1 Axes>"
            ],
            "image/png": "[encoded data removed]"
          },
          "metadata": {
            "needs_background": "light"
          }
        }
      ]
    },
    {
      "cell_type": "code",
      "source": [
        "figsize=(9, 5)\n",
        "plt.subplots(figsize=figsize)\n",
        "sns.barplot(x=\"Algorithm\", y=\"test_rmse\", hue ='cv' ,data=combined)\n",
        "plt.show()"
      ],
      "metadata": {
        "colab": {
          "base_uri": "https://localhost:8080/",
          "height": 334
        },
        "id": "g3hNgUHA9Igu",
        "outputId": "51291510-31e2-435e-ee22-fb77f8f9ee64"
      },
      "execution_count": null,
      "outputs": [
        {
          "output_type": "display_data",
          "data": {
            "text/plain": [
              "<Figure size 648x360 with 1 Axes>"
            ],
            "image/png": "[encoded data removed]"
          },
          "metadata": {
            "needs_background": "light"
          }
        }
      ]
    },
    {
      "cell_type": "code",
      "source": [
        "figsize=(9, 5)\n",
        "plt.subplots(figsize=figsize)\n",
        "sns.barplot(x = 'Algorithm',\n",
        "            y = 'test_mae',\n",
        "            data = pd.DataFrame(benchmark_cv5))\n",
        "plt.show()\n",
        "\n",
        "plt.subplots(figsize=figsize)\n",
        "sns.barplot(x = 'Algorithm',\n",
        "            y = 'test_mae',\n",
        "            data = pd.DataFrame(benchmark_cv10))\n",
        "plt.show()\n",
        "\n",
        "plt.subplots(figsize=figsize)\n",
        "sns.barplot(x = 'Algorithm',\n",
        "            y = 'test_mae',\n",
        "            data = pd.DataFrame(benchmark_cv15))\n",
        "plt.show()"
      ],
      "metadata": {
        "colab": {
          "base_uri": "https://localhost:8080/",
          "height": 968
        },
        "id": "I_ol7Oqw9N7D",
        "outputId": "cc86c905-185e-4c83-f640-595d8310c950"
      },
      "execution_count": null,
      "outputs": [
        {
          "output_type": "display_data",
          "data": {
            "text/plain": [
              "<Figure size 648x360 with 1 Axes>"
            ],
            "image/png": "[encoded data removed]"
          },
          "metadata": {
            "needs_background": "light"
          }
        },
        {
          "output_type": "display_data",
          "data": {
            "text/plain": [
              "<Figure size 648x360 with 1 Axes>"
            ],
            "image/png": "[encoded data removed]"
          },
          "metadata": {
            "needs_background": "light"
          }
        },
        {
          "output_type": "display_data",
          "data": {
            "text/plain": [
              "<Figure size 648x360 with 1 Axes>"
            ],
            "image/png": "[encoded data removed]"
          },
          "metadata": {
            "needs_background": "light"
          }
        }
      ]
    },
    {
      "cell_type": "code",
      "source": [
        "figsize=(9, 5)\n",
        "plt.subplots(figsize=figsize)\n",
        "sns.barplot(x=\"Algorithm\", y=\"test_mae\", hue ='cv' ,data=combined)\n",
        "plt.show()"
      ],
      "metadata": {
        "id": "9NtDc5Rl9URj",
        "outputId": "7f0d7065-af8d-45fb-d4a9-d78cf8a1c5ab",
        "colab": {
          "base_uri": "https://localhost:8080/",
          "height": 334
        }
      },
      "execution_count": null,
      "outputs": [
        {
          "output_type": "display_data",
          "data": {
            "text/plain": [
              "<Figure size 648x360 with 1 Axes>"
            ],
            "image/png": "[encoded data removed]"
          },
          "metadata": {
            "needs_background": "light"
          }
        }
      ]
    }
  ]
}